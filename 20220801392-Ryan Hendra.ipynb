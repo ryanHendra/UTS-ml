{
 "cells": [
  {
   "cell_type": "markdown",
   "id": "0da7e6af-7039-47a9-b891-3e61e977fb2d",
   "metadata": {},
   "source": [
    "Uts Machine Learning\n",
    "Nama:Ryan Hendra Dwi Cahya\n",
    "Nim:20220801392\n",
    "Matakuliah:Machine Learning"
   ]
  },
  {
   "cell_type": "markdown",
   "id": "ccd681bf",
   "metadata": {},
   "source": []
  },
  {
   "cell_type": "markdown",
   "id": "356fe87e",
   "metadata": {},
   "source": [
    "Soal No 1\n",
    "Machine Learning adalah cabang dari kecerdasan buatan (Artificial Intelligence atau AI) yang fokus pada pengembangan algoritma dan teknik yang memungkinkan komputer untuk belajar dari data dan membuat prediksi atau keputusan tanpa perlu diprogram secara eksplisit.Komponen-komponen yang ada dalam machine learning seperti :Data,Fitur,algoritma,Model Dan Pelatihan"
   ]
  },
  {
   "cell_type": "markdown",
   "id": "eff49a59-0248-4531-84df-b13cebe50351",
   "metadata": {},
   "source": [
    "Soal No 2\n",
    "-\tPrediksi Pemeliharaan Mesin\n",
    "Contoh: Industri manufaktur menggunakan machine learning untuk memprediksi kapan mesin memerlukan pemeliharaan berdasarkan data sensor.\n",
    "Mengapa Dibutuhkan: Untuk mencegah kerusakan tak terduga dan mengurangi downtime produksi.\n",
    "-\tPengoptimalan Rute Pengiriman\n",
    "Contoh: Aplikasi seperti Google Maps dan Waze menggunakan Machine learning untuk memberikan rute tercepat berdasarkan kondisi lalu lintas secara real-time.\n",
    "Mengapa Dibutuhkan: Untuk mengurangi waktu perjalanan dan menghindari kemacetan.\n",
    "Manfaat: Efisiensi waktu, penghematan bahan bakar, dan peningkatan pengalaman berkendara.\n",
    "-\tPendeteksi Penipuan di Perbankan\n",
    "Contoh: Bank menggunakan Machine learning untuk mendeteksi transaksi mencurigakan.\n",
    "Mengapa Dibutuhkan: Untuk melindungi dari penipuan dan meningkatkan keamanan.\n",
    "Manfaat: Mengurangi risiko kerugian finansial dan meningkatkan kepercayaan nasabah.\n",
    "-\tSistem Pengenalan Wajah\n",
    "Contoh: Pembukaan kunci ponsel pintar dan pemeriksaan identitas di bandara.\n",
    "Mengapa Dibutuhkan: Untuk keamanan dan kemudahan autentikasi.\n",
    "Manfaat: Penggunaan yang mudah dan peningkatan keamanan akses.\n",
    "-\t Deteksi Penyakit Tumbuhan\n",
    "Contoh: Aplikasi pertanian yang menggunakan ML untuk mendeteksi penyakit tanaman dari gambar yang diunggah oleh petani.\n",
    "Mengapa Dibutuhkan: Untuk membantu petani mengidentifikasi dan mengatasi penyakit tanaman lebih cepat.\n",
    "Manfaat: Meningkatkan hasil panen dan mengurangi kerugian akibat penyakit.\n",
    "\n"
   ]
  },
  {
   "cell_type": "markdown",
   "id": "5c3c91e2-4403-4280-8e14-eabd9553ee46",
   "metadata": {},
   "source": [
    "Soal No 3\n",
    "•  Pembelajaran Terawasi (Supervised Learning): Model dilatih dengan data yang sudah diberi label, artinya setiap contoh data disertai dengan output yang diinginkan. Contohnya termasuk klasifikasi dan regresi.\n",
    "•  Pembelajaran Tidak Terawasi (Unsupervised Learning): Model dilatih dengan data yang tidak diberi label, dan model harus menemukan struktur atau pola dalam data tersebut. Contohnya termasuk clustering dan asosiasi.\n",
    "•  Pembelajaran Semi-Terawasi (Semi-Supervised Learning): Kombinasi dari pembelajaran terawasi dan tidak terawasi, dimana model dilatih dengan data yang sebagian diberi label dan sebagian tidak.\n",
    "•  Pembelajaran Penguatan (Reinforcement Learning): Model belajar melalui interaksi dengan lingkungan dan mendapatkan umpan balik berupa reward atau punishment berdasarkan tindakan yang diambil. Contoh terkenal adalah algoritma yang digunakan dalam permainan komputer seperti AlphaGo."
   ]
  },
  {
   "cell_type": "markdown",
   "id": "fa142ec6-6761-4327-946e-baba57dc246c",
   "metadata": {},
   "source": [
    "Soal Study Kasus"
   ]
  },
  {
   "cell_type": "markdown",
   "id": "b78723af-20dd-4755-94c8-e466601a19ca",
   "metadata": {},
   "source": [
    "#Soal No 1\n",
    "Soal No 1\n",
    "\n",
    "Hari\tMahasiswa\tDatang\tBiaya per datang\tTotal Biaya\n",
    "Senin\tAni\t2\t30000\t60000\n",
    "Selasa\tBudi\t3\t35000\t105000\n",
    "Rabu\tJono\t4\t25000\t100000\n",
    "Kamis\tLono\t1\t15000\t15000\n",
    "Jumat\tJoni\t2\t20000\t40000\n",
    "Sabtu\tAni\t5\t30000\t150000\n",
    "Minggu\tBudi\t2\t35000\t70000\n",
    "Selanjutnya, kita akan menjawab pertanyaan berdasarkan data di atas:\n",
    "\n",
    "a) Berapa rata-rata mahasiswa datang pada minggu ini?\n",
    "Total jumlah kedatangan mahasiswa adalah \n",
    "\n",
    "2+3+4+1+2+5+2=19.\n",
    "\n",
    "Jumlah hari dalam seminggu adalah 7.\n",
    "\n",
    "Rata-rata mahasiswa datang per hari adalah \n",
    "19/7≈2.71\n",
    "\n",
    "b) Kapan biaya tertinggi terjadi?\n",
    "Biaya tertinggi terjadi pada hari Sabtu, dengan total biaya 150000.\n",
    "\n",
    "c) Hari apa biaya lebih dari 110000?\n",
    "Biaya lebih dari 110000 terjadi pada:\n",
    "Selasa (105000)\n",
    "Sabtu (150000)\n",
    "d) Siapa yang paling banyak datang ke kampus?\n",
    "Ani datang ke kampus sebanyak \n",
    "2+5=7\n",
    "2+5=7 kali, yang merupakan frekuensi kedatangan tertinggi.\n",
    "\n",
    "e) Siapa yang datang pada hari Minggu?\n",
    "Pada hari Minggu, yang datang adalah Budi.\n",
    "\n",
    "f) Berapa biaya tertinggi dan terendah?\n",
    "Biaya tertinggi adalah 150000 (Sabtu).\n",
    "Biaya terendah adalah 15000 (Kamis).\n",
    "g) Berapa frekuensi datang tertinggi dan terendah?\n",
    "Frekuensi datang tertinggi adalah 5 kali.\n",
    "Frekuensi datang terendah adalah 1 kali ."
   ]
  },
  {
   "cell_type": "code",
   "execution_count": 7,
   "id": "2775c095-8a80-4ec2-8ea1-01e69a672266",
   "metadata": {},
   "outputs": [
    {
     "name": "stdout",
     "output_type": "stream",
     "text": [
      "Rata-rata mahasiswa datang pada minggu ini: 2.71\n",
      "Biaya tertinggi terjadi pada hari: Sabtu\n",
      "Hari dengan biaya lebih dari 110000: Sabtu\n",
      "Mahasiswa yang paling banyak datang ke kampus: Ani\n",
      "Mahasiswa yang datang pada hari Minggu: Budi\n",
      "Biaya tertinggi: 150000\n",
      "Biaya terendah: 15000\n",
      "Frekuensi datang tertinggi: 5\n",
      "Frekuensi datang terendah: 1\n"
     ]
    }
   ],
   "source": [
    "import numpy as np\n",
    "\n",
    "# Data\n",
    "data = [\n",
    "    {\"hari\": \"Senin\", \"mahasiswa\": \"Ani\", \"datang\": 2, \"biaya_per_datang\": 30000},\n",
    "    {\"hari\": \"Selasa\", \"mahasiswa\": \"Budi\", \"datang\": 3, \"biaya_per_datang\": 35000},\n",
    "    {\"hari\": \"Rabu\", \"mahasiswa\": \"Jono\", \"datang\": 4, \"biaya_per_datang\": 25000},\n",
    "    {\"hari\": \"Kamis\", \"mahasiswa\": \"Lono\", \"datang\": 1, \"biaya_per_datang\": 15000},\n",
    "    {\"hari\": \"Jumat\", \"mahasiswa\": \"Joni\", \"datang\": 2, \"biaya_per_datang\": 20000},\n",
    "    {\"hari\": \"Sabtu\", \"mahasiswa\": \"Ani\", \"datang\": 5, \"biaya_per_datang\": 30000},\n",
    "    {\"hari\": \"Minggu\", \"mahasiswa\": \"Budi\", \"datang\": 2, \"biaya_per_datang\": 35000}\n",
    "]\n",
    "\n",
    "# Extracting data to numpy arrays\n",
    "hari = np.array([entry[\"hari\"] for entry in data])\n",
    "mahasiswa = np.array([entry[\"mahasiswa\"] for entry in data])\n",
    "datang = np.array([entry[\"datang\"] for entry in data])\n",
    "biaya_per_datang = np.array([entry[\"biaya_per_datang\"] for entry in data])\n",
    "total_biaya = datang * biaya_per_datang\n",
    "\n",
    "# a) Rata-rata mahasiswa datang pada minggu ini\n",
    "rata_rata_datang = np.mean(datang)\n",
    "print(f\"Rata-rata mahasiswa datang pada minggu ini: {rata_rata_datang:.2f}\")\n",
    "\n",
    "# b) Kapan biaya tertinggi terjadi\n",
    "hari_biaya_tertinggi = hari[np.argmax(total_biaya)]\n",
    "print(f\"Biaya tertinggi terjadi pada hari: {hari_biaya_tertinggi}\")\n",
    "\n",
    "# c) Hari apa biaya lebih dari 110000\n",
    "hari_biaya_lebih_110000 = hari[total_biaya > 110000]\n",
    "print(f\"Hari dengan biaya lebih dari 110000: {', '.join(hari_biaya_lebih_110000)}\")\n",
    "\n",
    "# d) Siapa yang paling banyak datang ke kampus\n",
    "unique_mahasiswa, counts = np.unique(mahasiswa, return_counts=True)\n",
    "mahasiswa_terbanyak = unique_mahasiswa[np.argmax(counts)]\n",
    "print(f\"Mahasiswa yang paling banyak datang ke kampus: {mahasiswa_terbanyak}\")\n",
    "\n",
    "# e) Siapa yang datang pada hari Minggu\n",
    "mahasiswa_hari_minggu = mahasiswa[hari == \"Minggu\"]\n",
    "print(f\"Mahasiswa yang datang pada hari Minggu: {', '.join(mahasiswa_hari_minggu)}\")\n",
    "\n",
    "# f) Berapa biaya tertinggi dan terendah\n",
    "biaya_tertinggi = np.max(total_biaya)\n",
    "biaya_terendah = np.min(total_biaya)\n",
    "print(f\"Biaya tertinggi: {biaya_tertinggi}\")\n",
    "print(f\"Biaya terendah: {biaya_terendah}\")\n",
    "\n",
    "# g) Berapa frekuensi datang tertinggi dan terendah\n",
    "frekuensi_tertinggi = np.max(datang)\n",
    "frekuensi_terendah = np.min(datang)\n",
    "print(f\"Frekuensi datang tertinggi: {frekuensi_tertinggi}\")\n",
    "print(f\"Frekuensi datang terendah: {frekuensi_terendah}\")\n"
   ]
  },
  {
   "cell_type": "code",
   "execution_count": 6,
   "id": "ce33274a-7cbf-4ba0-a857-52af01be5486",
   "metadata": {},
   "outputs": [
    {
     "data": {
      "image/png": "[encoded data removed]",
      "text/plain": [
       "<Figure size 600x200 with 1 Axes>"
      ]
     },
     "metadata": {},
     "output_type": "display_data"
    },
    {
     "data": {
      "text/html": [
       "<div>\n",
       "<style scoped>\n",
       "    .dataframe tbody tr th:only-of-type {\n",
       "        vertical-align: middle;\n",
       "    }\n",
       "\n",
       "    .dataframe tbody tr th {\n",
       "        vertical-align: top;\n",
       "    }\n",
       "\n",
       "    .dataframe thead th {\n",
       "        text-align: right;\n",
       "    }\n",
       "</style>\n",
       "<table border=\"1\" class=\"dataframe\">\n",
       "  <thead>\n",
       "    <tr style=\"text-align: right;\">\n",
       "      <th></th>\n",
       "      <th>FAKULTAS</th>\n",
       "      <th>Jumlah Mahasiswa</th>\n",
       "      <th>AKREDITASI</th>\n",
       "    </tr>\n",
       "  </thead>\n",
       "  <tbody>\n",
       "    <tr>\n",
       "      <th>0</th>\n",
       "      <td>Bisnis</td>\n",
       "      <td>260</td>\n",
       "      <td>A</td>\n",
       "    </tr>\n",
       "    <tr>\n",
       "      <th>1</th>\n",
       "      <td>D3Perhotelan</td>\n",
       "      <td>28</td>\n",
       "      <td>A</td>\n",
       "    </tr>\n",
       "    <tr>\n",
       "      <th>2</th>\n",
       "      <td>ICT</td>\n",
       "      <td>284</td>\n",
       "      <td>B</td>\n",
       "    </tr>\n",
       "    <tr>\n",
       "      <th>3</th>\n",
       "      <td>IlmuKomunikasi</td>\n",
       "      <td>465</td>\n",
       "      <td>A</td>\n",
       "    </tr>\n",
       "    <tr>\n",
       "      <th>4</th>\n",
       "      <td>SenidanDesain</td>\n",
       "      <td>735</td>\n",
       "      <td>A</td>\n",
       "    </tr>\n",
       "  </tbody>\n",
       "</table>\n",
       "</div>"
      ],
      "text/plain": [
       "         FAKULTAS  Jumlah Mahasiswa AKREDITASI\n",
       "0          Bisnis               260          A\n",
       "1    D3Perhotelan                28          A\n",
       "2             ICT               284          B\n",
       "3  IlmuKomunikasi               465          A\n",
       "4   SenidanDesain               735          A"
      ]
     },
     "execution_count": 6,
     "metadata": {},
     "output_type": "execute_result"
    }
   ],
   "source": [
    "\n",
    "#Soal No 2\n",
    "import pandas \n",
    "import matplotlib.pyplot as plt\n",
    "\n",
    "fakultas=[\"Bisnis\", \"D3Perhotelan\", \"ICT\", \"IlmuKomunikasi\", \"SenidanDesain\"]\n",
    "jumlah_mahasiswa=[260, 28, 284, 465, 735]\n",
    "warna=[\"orange\",\"yellow\",\"green\",\"blue\",\"pink\"]\n",
    "akreditasi=[\"A\",\"A\",\"B\",\"A\",\"A\"]\n",
    "\n",
    "\n",
    "plt.figure(figsize=(6,2))\n",
    "plt.bar(fakultas,jumlah_mahasiswa,color=warna)\n",
    "plt.title(\"Info Mahasiswa\")\n",
    "plt.xlabel(\"Fakultas\",size=11)\n",
    "plt.ylabel(\"Jumlah Mahasiswa\",size=11)\n",
    "plt.xticks(size=6)\n",
    "plt.xticks(size=6)\n",
    "plt.show()\n",
    "\n",
    "info = pandas.DataFrame({\n",
    "    \"FAKULTAS\":fakultas,\n",
    "    \"Jumlah Mahasiswa\":jumlah_mahasiswa,\n",
    "    \"AKREDITASI\":akreditasi\n",
    "})\n",
    "info\n",
    "\n"
   ]
  },
  {
   "cell_type": "code",
   "execution_count": null,
   "id": "d8c00817-7195-487c-bf06-d6a8e4ded890",
   "metadata": {},
   "outputs": [],
   "source": []
  }
 ],
 "metadata": {
  "kernelspec": {
   "display_name": "Python 3 (ipykernel)",
   "language": "python",
   "name": "python3"
  },
  "language_info": {
   "codemirror_mode": {
    "name": "ipython",
    "version": 3
   },
   "file_extension": ".py",
   "mimetype": "text/x-python",
   "name": "python",
   "nbconvert_exporter": "python",
   "pygments_lexer": "ipython3",
   "version": "3.10.6"
  }
 },
 "nbformat": 4,
 "nbformat_minor": 5
}
